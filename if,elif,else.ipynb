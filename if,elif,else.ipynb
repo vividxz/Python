{
 "cells": [
  {
   "cell_type": "code",
   "execution_count": 2,
   "metadata": {},
   "outputs": [
    {
     "name": "stdout",
     "output_type": "stream",
     "text": [
      "This is false\n"
     ]
    }
   ],
   "source": [
    "#Uses indentation for creating blocks\n",
    "x=False\n",
    "if x:\n",
    "    print(\"This is true\")\n",
    "else:\n",
    "\n",
    "    print(\"This is false\")"
   ]
  },
  {
   "cell_type": "code",
   "execution_count": 3,
   "metadata": {},
   "outputs": [
    {
     "name": "stdout",
     "output_type": "stream",
     "text": [
      "positive  50\n"
     ]
    }
   ],
   "source": [
    "x=50\n",
    "if x>0:\n",
    "    print(\"positive \",x)\n",
    "elif x<0:\n",
    "    print(\"Negative \",x)\n",
    "else:\n",
    "    print(\"Neutral \",x)"
   ]
  },
  {
   "cell_type": "code",
   "execution_count": 4,
   "metadata": {},
   "outputs": [
    {
     "name": "stdout",
     "output_type": "stream",
     "text": [
      "Double digit even number\n"
     ]
    }
   ],
   "source": [
    "x=100\n",
    "if x>9 and x%2==0:\n",
    "    print(\"Double digit even number\")"
   ]
  },
  {
   "cell_type": "code",
   "execution_count": 5,
   "metadata": {},
   "outputs": [
    {
     "name": "stdout",
     "output_type": "stream",
     "text": [
      "Me\n"
     ]
    }
   ],
   "source": [
    "person=\"Aditya\"\n",
    "if person==\"AP\":\n",
    "    print(\"Not me\")\n",
    "elif person==\"pandey\":\n",
    "    print(\"Not me\")\n",
    "elif person==\"Aditya\":\n",
    "    print(\"Me\")\n",
    "else:\n",
    "    print(\"Unknown\")"
   ]
  },
  {
   "cell_type": "code",
   "execution_count": null,
   "metadata": {},
   "outputs": [],
   "source": []
  },
  {
   "cell_type": "code",
   "execution_count": null,
   "metadata": {},
   "outputs": [],
   "source": []
  }
 ],
 "metadata": {
  "kernelspec": {
   "display_name": "Python 3",
   "language": "python",
   "name": "python3"
  },
  "language_info": {
   "codemirror_mode": {
    "name": "ipython",
    "version": 3
   },
   "file_extension": ".py",
   "mimetype": "text/x-python",
   "name": "python",
   "nbconvert_exporter": "python",
   "pygments_lexer": "ipython3",
   "version": "3.8.5"
  }
 },
 "nbformat": 4,
 "nbformat_minor": 4
}
