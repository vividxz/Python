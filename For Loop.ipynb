{
 "cells": [
  {
   "cell_type": "code",
   "execution_count": 2,
   "metadata": {},
   "outputs": [
    {
     "name": "stdout",
     "output_type": "stream",
     "text": [
      "1 is odd\n",
      "2 is even\n",
      "3 is odd\n",
      "4 is even\n",
      "5 is odd\n",
      "6 is even\n",
      "7 is odd\n",
      "8 is even\n",
      "9 is odd\n",
      "10 is even\n"
     ]
    }
   ],
   "source": [
    "#loops with range\n",
    "for i in range(1,11):\n",
    "        if i%2==0:\n",
    "            print(i, \"is even\")\n",
    "        else :\n",
    "            print(i, \"is odd\")"
   ]
  },
  {
   "cell_type": "code",
   "execution_count": 3,
   "metadata": {},
   "outputs": [
    {
     "name": "stdout",
     "output_type": "stream",
     "text": [
      "0 is even\n",
      "1 is odd\n",
      "2 is even\n",
      "3 is odd\n",
      "4 is even\n",
      "5 is odd\n",
      "6 is even\n",
      "7 is odd\n",
      "8 is even\n",
      "9 is odd\n",
      "10 is even\n"
     ]
    }
   ],
   "source": [
    "for i in range(11): #default initial value is 0\n",
    "        if i%2==0:\n",
    "            print(i, \"is even\")\n",
    "        else :\n",
    "            print(i, \"is odd\")"
   ]
  },
  {
   "cell_type": "code",
   "execution_count": 10,
   "metadata": {},
   "outputs": [
    {
     "name": "stdout",
     "output_type": "stream",
     "text": [
      "5\n",
      "10\n",
      "15\n",
      "20\n",
      "25\n",
      "30\n",
      "35\n",
      "40\n",
      "45\n",
      "50\n"
     ]
    }
   ],
   "source": [
    "for i in range(5,51,5): #updation value is 5 here\n",
    "    print(i)"
   ]
  },
  {
   "cell_type": "code",
   "execution_count": 11,
   "metadata": {},
   "outputs": [
    {
     "name": "stdout",
     "output_type": "stream",
     "text": [
      "10\n",
      "9\n",
      "8\n",
      "7\n",
      "6\n",
      "5\n",
      "4\n",
      "3\n",
      "2\n",
      "1\n"
     ]
    }
   ],
   "source": [
    "#backward traversal\n",
    "for i in range(10,0,-1):\n",
    "    print(i)"
   ]
  },
  {
   "cell_type": "code",
   "execution_count": 14,
   "metadata": {},
   "outputs": [
    {
     "name": "stdout",
     "output_type": "stream",
     "text": [
      "1\n",
      "4\n",
      "9\n",
      "16\n",
      "25\n",
      "36\n",
      "49\n",
      "64\n",
      "81\n",
      "100\n"
     ]
    }
   ],
   "source": [
    "#loops with tuples\n",
    "tup=(1,2,3,4,5,6,7,8,9,10)\n",
    "for i in tup:\n",
    "    print(i**2)"
   ]
  },
  {
   "cell_type": "code",
   "execution_count": 5,
   "metadata": {},
   "outputs": [
    {
     "name": "stdout",
     "output_type": "stream",
     "text": [
      "1 1\n",
      "2 2\n",
      "3 3\n",
      "4 4\n",
      "5 5\n",
      "6 6\n",
      "7 7\n",
      "8 8\n",
      "9 9\n",
      "10 10\n"
     ]
    }
   ],
   "source": [
    "#Loops in lists\n",
    "list=[1,2,3,4,5,6,7,8,9,10]\n",
    "for i in list:\n",
    "    print(i, end=\" \")\n",
    "    print(i, end=\"\\n\")"
   ]
  },
  {
   "cell_type": "code",
   "execution_count": 14,
   "metadata": {},
   "outputs": [
    {
     "name": "stdout",
     "output_type": "stream",
     "text": [
      "1\n",
      "2\n",
      "3\n",
      "4\n",
      "5\n",
      "6\n",
      "7\n",
      "8\n",
      "9\n",
      "10\n"
     ]
    }
   ],
   "source": [
    "#Traversal in nested lists and tuples\n",
    "list1=[[1,2],[3,4],[5,6],[7,8],[9,10]]\n",
    "for i in list1:\n",
    "    for j in i:\n",
    "        print(j)"
   ]
  },
  {
   "cell_type": "code",
   "execution_count": 19,
   "metadata": {},
   "outputs": [
    {
     "name": "stdout",
     "output_type": "stream",
     "text": [
      "1 2 3 4 5 6 7 8 9 10 11 12 "
     ]
    }
   ],
   "source": [
    "tup1=(((1,2,3),(4,5,6)),((7,8,9),(10,11,12)))\n",
    "for i in tup1:\n",
    "    for j in i:\n",
    "        for k in j:\n",
    "\n",
    "            print(k, end=\" \")"
   ]
  },
  {
   "cell_type": "code",
   "execution_count": 3,
   "metadata": {},
   "outputs": [
    {
     "name": "stdout",
     "output_type": "stream",
     "text": [
      "1 2 X\n",
      "3 4 X\n",
      "5 6 X\n",
      "7 8 X\n",
      "9 10 X\n"
     ]
    }
   ],
   "source": [
    "#Using multiple variables\n",
    "list1=[[1,2,'X'],[3,4,'X'],[5,6,'X'],[7,8,'X'],[9,10,'X']]\n",
    "for i,j,k in list1:\n",
    "    print(i,j,k)"
   ]
  },
  {
   "cell_type": "code",
   "execution_count": 1,
   "metadata": {},
   "outputs": [
    {
     "name": "stdout",
     "output_type": "stream",
     "text": [
      "1\n",
      "2\n",
      "3\n",
      "4\n",
      "5\n",
      "6\n",
      "7\n",
      "8\n",
      "9\n",
      "10\n",
      "11\n",
      "12\n"
     ]
    }
   ],
   "source": [
    "tup1=(((1,2,3),(4,5,6)),((7,8,9),(10,11,12)))\n",
    "for i in tup1:\n",
    "    for a,b,c in i:\n",
    "        print(a)\n",
    "        print(b)\n",
    "        print(c)"
   ]
  },
  {
   "cell_type": "code",
   "execution_count": 7,
   "metadata": {},
   "outputs": [
    {
     "name": "stdout",
     "output_type": "stream",
     "text": [
      "1\n",
      "2\n",
      "3\n",
      "4\n",
      "5\n"
     ]
    }
   ],
   "source": [
    "#traversal in dictionary\n",
    "dict1={1:'ONE',2:'TWO',3:'THREE',4:'FOUR',5:'FIVE'}\n",
    "for d in dict1:\n",
    "    print(d)"
   ]
  },
  {
   "cell_type": "code",
   "execution_count": 8,
   "metadata": {},
   "outputs": [
    {
     "name": "stdout",
     "output_type": "stream",
     "text": [
      "(1, 'ONE')\n",
      "(2, 'TWO')\n",
      "(3, 'THREE')\n",
      "(4, 'FOUR')\n",
      "(5, 'FIVE')\n"
     ]
    }
   ],
   "source": [
    "dict1={1:'ONE',2:'TWO',3:'THREE',4:'FOUR',5:'FIVE'}\n",
    "for d in dict1.items():\n",
    "    print(d)"
   ]
  },
  {
   "cell_type": "code",
   "execution_count": 9,
   "metadata": {},
   "outputs": [
    {
     "name": "stdout",
     "output_type": "stream",
     "text": [
      "1 ONE\n",
      "2 TWO\n",
      "3 THREE\n",
      "4 FOUR\n",
      "5 FIVE\n"
     ]
    }
   ],
   "source": [
    "dict1={1:'ONE',2:'TWO',3:'THREE',4:'FOUR',5:'FIVE'}\n",
    "for a,b in dict1.items():\n",
    "    print(a,b)"
   ]
  },
  {
   "cell_type": "code",
   "execution_count": 10,
   "metadata": {},
   "outputs": [
    {
     "name": "stdout",
     "output_type": "stream",
     "text": [
      "1\n",
      "2\n",
      "3\n",
      "4\n",
      "5\n"
     ]
    }
   ],
   "source": [
    "dict1={1:'ONE',2:'TWO',3:'THREE',4:'FOUR',5:'FIVE'}\n",
    "for d in dict1.keys():\n",
    "    print(d)"
   ]
  },
  {
   "cell_type": "code",
   "execution_count": 11,
   "metadata": {},
   "outputs": [
    {
     "name": "stdout",
     "output_type": "stream",
     "text": [
      "ONE\n",
      "TWO\n",
      "THREE\n",
      "FOUR\n",
      "FIVE\n"
     ]
    }
   ],
   "source": [
    "dict1={1:'ONE',2:'TWO',3:'THREE',4:'FOUR',5:'FIVE'}\n",
    "for d in dict1.values():\n",
    "    print(d)"
   ]
  },
  {
   "cell_type": "code",
   "execution_count": 19,
   "metadata": {},
   "outputs": [
    {
     "name": "stdout",
     "output_type": "stream",
     "text": [
      "{'a': 25, 'b': 2, 'c': 6, 'd': 4}\n",
      "[2, 4, 6, 25]\n"
     ]
    }
   ],
   "source": [
    "#sorting values of obh=j by using sorted()\n",
    "#This prints last value of c as c is updated in last obj\n",
    "dict2={'a':25,'b':2,'c':5,'c':6,'d':4}\n",
    "print(dict2)\n",
    "print(sorted(dict2.values()))"
   ]
  },
  {
   "cell_type": "code",
   "execution_count": 20,
   "metadata": {},
   "outputs": [
    {
     "data": {
      "text/plain": [
       "['a', 'b', 'c', 'd']"
      ]
     },
     "execution_count": 20,
     "metadata": {},
     "output_type": "execute_result"
    }
   ],
   "source": [
    "list(dict2.keys())"
   ]
  }
 ],
 "metadata": {
  "kernelspec": {
   "display_name": "Python 3",
   "language": "python",
   "name": "python3"
  },
  "language_info": {
   "codemirror_mode": {
    "name": "ipython",
    "version": 3
   },
   "file_extension": ".py",
   "mimetype": "text/x-python",
   "name": "python",
   "nbconvert_exporter": "python",
   "pygments_lexer": "ipython3",
   "version": "3.8.5"
  }
 },
 "nbformat": 4,
 "nbformat_minor": 4
}
