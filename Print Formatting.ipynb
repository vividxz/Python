{
 "cells": [
  {
   "cell_type": "code",
   "execution_count": null,
   "metadata": {},
   "outputs": [],
   "source": [
    "#String Formatting"
   ]
  },
  {
   "cell_type": "code",
   "execution_count": null,
   "metadata": {},
   "outputs": [],
   "source": [
    "# 1.Oldest method using %"
   ]
  },
  {
   "cell_type": "code",
   "execution_count": 1,
   "metadata": {},
   "outputs": [
    {
     "data": {
      "text/plain": [
       "'I am from SRM, Ramapuram'"
      ]
     },
     "execution_count": 1,
     "metadata": {},
     "output_type": "execute_result"
    }
   ],
   "source": [
    "\"I am from %s, Ramapuram\" %'SRM'                #  1. doubt why -->   ' comming at last"
   ]
  },
  {
   "cell_type": "code",
   "execution_count": 2,
   "metadata": {},
   "outputs": [
    {
     "data": {
      "text/plain": [
       "\"I am '26' years old\""
      ]
     },
     "execution_count": 2,
     "metadata": {},
     "output_type": "execute_result"
    }
   ],
   "source": [
    "'I am %r years old' %'26' #%r treats gives output in -> '' whesre as %s dont."
   ]
  },
  {
   "cell_type": "code",
   "execution_count": 3,
   "metadata": {},
   "outputs": [
    {
     "name": "stdout",
     "output_type": "stream",
     "text": [
      "I am from SRM , Ramapuram\n"
     ]
    }
   ],
   "source": [
    "print('I am from %s , %s' %('SRM','Ramapuram'))"
   ]
  },
  {
   "cell_type": "code",
   "execution_count": 5,
   "metadata": {},
   "outputs": [
    {
     "name": "stdout",
     "output_type": "stream",
     "text": [
      "2 + 3 = 5 \n"
     ]
    }
   ],
   "source": [
    "x,y=2,3\n",
    "z=2+3\n",
    "print('%s + %s = %s '%(x,y,z))"
   ]
  },
  {
   "cell_type": "code",
   "execution_count": 8,
   "metadata": {},
   "outputs": [
    {
     "data": {
      "text/plain": [
       "'My name is  Aditya \\tSingh'"
      ]
     },
     "execution_count": 8,
     "metadata": {},
     "output_type": "execute_result"
    }
   ],
   "source": [
    "#\\t inserts a tab\n",
    "'My name is %s' %' Aditya \\tSingh'      #2. doubt --> not working"
   ]
  },
  {
   "cell_type": "code",
   "execution_count": 9,
   "metadata": {},
   "outputs": [
    {
     "name": "stdout",
     "output_type": "stream",
     "text": [
      "My CGPA is 9.6 \n",
      "My CGPA is 9 \n"
     ]
    }
   ],
   "source": [
    "# %s vs %d\n",
    "print('My CGPA is %s '% 9.6)\n",
    "print('My CGPA is %d '% 9.6)#%d converts to int data type."
   ]
  },
  {
   "cell_type": "code",
   "execution_count": 10,
   "metadata": {},
   "outputs": [
    {
     "data": {
      "text/plain": [
       "'Our GDP is 29.26000'"
      ]
     },
     "execution_count": 10,
     "metadata": {},
     "output_type": "execute_result"
    }
   ],
   "source": [
    "#%5.6f means string must be atleast of size 5 if not it will add white spaces and 6 digits after decimal is not it will add 0\n",
    "'Our GDP is %3.5f' %29.26"
   ]
  },
  {
   "cell_type": "code",
   "execution_count": 14,
   "metadata": {},
   "outputs": [
    {
     "data": {
      "text/plain": [
       "'I know Html CSS JAVASCRIPT C++ and JAVA '"
      ]
     },
     "execution_count": 14,
     "metadata": {},
     "output_type": "execute_result"
    }
   ],
   "source": [
    "# 2. DOT FORMAT METHOD -> .format()\n",
    "'I know {} {} {} {} and {} '.format('Html','CSS','JAVASCRIPT', 'C++' , 'JAVA')"
   ]
  },
  {
   "cell_type": "code",
   "execution_count": 15,
   "metadata": {},
   "outputs": [
    {
     "data": {
      "text/plain": [
       "'I know HTML CSS JAVASCRIPT C++ JAVA'"
      ]
     },
     "execution_count": 15,
     "metadata": {},
     "output_type": "execute_result"
    }
   ],
   "source": [
    "#By index no.\n",
    "'I know {3} {0} {2} {1} {4}'.format('CSS','C++','JAVASCRIPT','HTML','JAVA')"
   ]
  },
  {
   "cell_type": "code",
   "execution_count": 16,
   "metadata": {},
   "outputs": [
    {
     "name": "stdout",
     "output_type": "stream",
     "text": [
      "Price = 100 , discount = 10 , selling price = 90.0\n"
     ]
    }
   ],
   "source": [
    "#By keywords\n",
    "price=100\n",
    "discount=10\n",
    "sp=price-(price*discount/100.0)\n",
    "print('Price = {a} , discount = {b} , selling price = {c}'.format(a=price,b=discount,c=sp))"
   ]
  },
  {
   "cell_type": "code",
   "execution_count": 18,
   "metadata": {},
   "outputs": [
    {
     "data": {
      "text/plain": [
       "'Aman likes Chocolates , AP likes Chocolates , Aditya likes Chocolates,'"
      ]
     },
     "execution_count": 18,
     "metadata": {},
     "output_type": "execute_result"
    }
   ],
   "source": [
    "#can be reused\n",
    "'Aman likes {a} , AP likes {a} , Aditya likes {a},'.format(a='Chocolates')"
   ]
  },
  {
   "cell_type": "code",
   "execution_count": null,
   "metadata": {},
   "outputs": [],
   "source": [
    "#Alignment, Padding and Precision with .format()\n"
   ]
  },
  {
   "cell_type": "code",
   "execution_count": 25,
   "metadata": {},
   "outputs": [
    {
     "name": "stdout",
     "output_type": "stream",
     "text": [
      "Fruits     | Fruits    \n",
      "Apple      | Apple     \n",
      "Banana     | Banana    \n",
      "Grapes     | Grapes    \n"
     ]
    }
   ],
   "source": [
    "print('{0:10} | {0:10}' .format('Fruits','Quantity'))\n",
    "print('{0:10} | {0:10}' .format('Apple',10))\n",
    "print('{0:10} | {0:10}' .format('Banana','None'))\n",
    "print('{0:10} | {0:10}' .format('Grapes',50.77732))"
   ]
  },
  {
   "cell_type": "code",
   "execution_count": 28,
   "metadata": {},
   "outputs": [
    {
     "name": "stdout",
     "output_type": "stream",
     "text": [
      "Left       |   Center   |      Right\n",
      "10         |     20     |         30\n"
     ]
    }
   ],
   "source": [
    "print('{0:<10} | {1:^10} | {2:>10}'.format('Left','Center','Right'))\n",
    "print('{0:<10} | {1:^10} | {2:>10}'.format(10,20,30))"
   ]
  },
  {
   "cell_type": "code",
   "execution_count": 33,
   "metadata": {},
   "outputs": [
    {
     "data": {
      "text/plain": [
       "'Tax is 7.12 and 213.123'"
      ]
     },
     "execution_count": 33,
     "metadata": {},
     "output_type": "execute_result"
    }
   ],
   "source": [
    "'Tax is {0:3.2f} and {1:2.3f}' .format(7.12314, 213.12344)"
   ]
  },
  {
   "cell_type": "code",
   "execution_count": null,
   "metadata": {},
   "outputs": [],
   "source": [
    "#3. f-strings"
   ]
  },
  {
   "cell_type": "code",
   "execution_count": 37,
   "metadata": {},
   "outputs": [
    {
     "data": {
      "text/plain": [
       "'I am from SRM Ramapuram'"
      ]
     },
     "execution_count": 37,
     "metadata": {},
     "output_type": "execute_result"
    }
   ],
   "source": [
    "college='SRM'\n",
    "f'I am from {college} Ramapuram'"
   ]
  },
  {
   "cell_type": "code",
   "execution_count": 39,
   "metadata": {},
   "outputs": [
    {
     "data": {
      "text/plain": [
       "\"I am from 'SRM' Ramapuram\""
      ]
     },
     "execution_count": 39,
     "metadata": {},
     "output_type": "execute_result"
    }
   ],
   "source": [
    "college='SRM'\n",
    "f'I am from {college!r} Ramapuram'"
   ]
  },
  {
   "cell_type": "code",
   "execution_count": 40,
   "metadata": {},
   "outputs": [
    {
     "data": {
      "text/plain": [
       "'My CGPA is  9.12'"
      ]
     },
     "execution_count": 40,
     "metadata": {},
     "output_type": "execute_result"
    }
   ],
   "source": [
    "#Precision\n",
    "cgpa=9.124532\n",
    "f'My CGPA is {cgpa:{5}.{3}}' #Not working so use .format() syntax in f"
   ]
  },
  {
   "cell_type": "code",
   "execution_count": 42,
   "metadata": {},
   "outputs": [
    {
     "data": {
      "text/plain": [
       "'My CGPA is 9.125'"
      ]
     },
     "execution_count": 42,
     "metadata": {},
     "output_type": "execute_result"
    }
   ],
   "source": [
    "cgpa=9.124532\n",
    "f'My CGPA is {cgpa:5.3f}'"
   ]
  }
 ],
 "metadata": {
  "kernelspec": {
   "display_name": "Python 3",
   "language": "python",
   "name": "python3"
  },
  "language_info": {
   "codemirror_mode": {
    "name": "ipython",
    "version": 3
   },
   "file_extension": ".py",
   "mimetype": "text/x-python",
   "name": "python",
   "nbconvert_exporter": "python",
   "pygments_lexer": "ipython3",
   "version": "3.8.5"
  }
 },
 "nbformat": 4,
 "nbformat_minor": 4
}
